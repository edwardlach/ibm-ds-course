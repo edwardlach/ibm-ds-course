{
  "nbformat": 4,
  "nbformat_minor": 0,
  "metadata": {
    "colab": {
      "provenance": [],
      "authorship_tag": "ABX9TyOjIA24GgO13p7m0M3+HRW8",
      "include_colab_link": true
    },
    "kernelspec": {
      "name": "python3",
      "display_name": "Python 3"
    },
    "language_info": {
      "name": "python"
    }
  },
  "cells": [
    {
      "cell_type": "markdown",
      "metadata": {
        "id": "view-in-github",
        "colab_type": "text"
      },
      "source": [
        "<a href=\"https://colab.research.google.com/github/edwardlach/ibm-ds-course/blob/main/DataScienceEcosystem.ipynb\" target=\"_parent\"><img src=\"https://colab.research.google.com/assets/colab-badge.svg\" alt=\"Open In Colab\"/></a>"
      ]
    },
    {
      "cell_type": "markdown",
      "source": [
        "# Data Science Tools and Ecosystem"
      ],
      "metadata": {
        "id": "evzWI958g-up"
      }
    },
    {
      "cell_type": "markdown",
      "source": [
        "In this notebook, Data Science Tools and Ecosystem are summarized."
      ],
      "metadata": {
        "id": "ft6fOjBShwxV"
      }
    },
    {
      "cell_type": "markdown",
      "source": [
        "## Author\n",
        "Ed Lach"
      ],
      "metadata": {
        "id": "RdTZm331lkxa"
      }
    },
    {
      "cell_type": "markdown",
      "source": [
        "**Objectives:**\n",
        "* List popular data science languages\n",
        "* List popular data science libraries\n",
        "* Demonstrate basic python operations in Jupyter Notebooks"
      ],
      "metadata": {
        "id": "pECYk-mslBUz"
      }
    },
    {
      "cell_type": "markdown",
      "source": [
        "#### Some of the popular languages that Data Scientists use are:\n",
        "* Python\n",
        "* R\n",
        "* Julia\n",
        "* SQL"
      ],
      "metadata": {
        "id": "qF8NpFikh-KC"
      }
    },
    {
      "cell_type": "markdown",
      "source": [
        "### Some of the commonly used librarires used by Data Scientists include:\n",
        "* Tensorflow\n",
        "* Numpy\n",
        "* Pandas\n",
        "* ggplot2"
      ],
      "metadata": {
        "id": "KY8OAoUsia5R"
      }
    },
    {
      "cell_type": "markdown",
      "source": [
        "| Data Science Tools |\n",
        "| ------------------ |\n",
        "| Jupyter |\n",
        "| Anaconda |\n",
        "| Spyder |"
      ],
      "metadata": {
        "id": "VQr0NppgjV-N"
      }
    },
    {
      "cell_type": "markdown",
      "source": [
        "### Below are a few examples of evaluating arithmetic expressions in Python"
      ],
      "metadata": {
        "id": "TDWWmPHij3mB"
      }
    },
    {
      "cell_type": "code",
      "source": [
        "# This is a simple arithmetic expression to multiply then add integers\n",
        "\n",
        "(3*4)+5"
      ],
      "metadata": {
        "colab": {
          "base_uri": "https://localhost:8080/"
        },
        "id": "D_Q6t6JkkJo9",
        "outputId": "af92cec1-7e78-4bd9-f826-6bc0f2d06a85"
      },
      "execution_count": 6,
      "outputs": [
        {
          "output_type": "execute_result",
          "data": {
            "text/plain": [
              "17"
            ]
          },
          "metadata": {},
          "execution_count": 6
        }
      ]
    },
    {
      "cell_type": "code",
      "source": [
        "# This will convert 200 minutes to hours by dividing by 60\n",
        "200 / 60"
      ],
      "metadata": {
        "colab": {
          "base_uri": "https://localhost:8080/"
        },
        "id": "5b24muuXkNHs",
        "outputId": "e6c5c7fe-f04f-49fa-a35e-0a5aeb90cbdd"
      },
      "execution_count": 5,
      "outputs": [
        {
          "output_type": "execute_result",
          "data": {
            "text/plain": [
              "3.3333333333333335"
            ]
          },
          "metadata": {},
          "execution_count": 5
        }
      ]
    }
  ]
}